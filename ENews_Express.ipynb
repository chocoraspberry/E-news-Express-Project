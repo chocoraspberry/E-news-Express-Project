{
 "cells": [
  {
   "cell_type": "markdown",
   "id": "6yDxo9u0d9Na",
   "metadata": {
    "id": "6yDxo9u0d9Na"
   },
   "source": [
    "# Project Business Statistics: E-news Express\n",
    "\n",
    "**Marks: 60**"
   ]
  },
  {
   "cell_type": "markdown",
   "id": "SrLd-ICEmPSD",
   "metadata": {
    "id": "SrLd-ICEmPSD"
   },
   "source": [
    "## Define Problem Statement and Objectives"
   ]
  },
  {
   "cell_type": "markdown",
   "id": "9Vt1PLLqmXNn",
   "metadata": {
    "id": "9Vt1PLLqmXNn"
   },
   "source": [
    "##### Explore the data and perform a statistical analysis (at a significance level of 5%) to determine the effectiveness of the new landing page in gathering new subscribers for the news portal. And answer the following questions:\n",
    "\n",
    "- 1.Do the users spend more time on the new landing page than on the existing landing page?\n",
    "- 2.Is the conversion rate (the proportion of users who visit the landing page and get converted) for the new page greater than the conversion rate for the old page?\n",
    "- 3.Does the converted status depend on the preferred language?\n",
    "- 4.Is the time spent on the new page the same for the different language users?"
   ]
  },
  {
   "cell_type": "markdown",
   "id": "a6a3d218",
   "metadata": {
    "id": "a6a3d218"
   },
   "source": [
    "## Import all the necessary libraries"
   ]
  },
  {
   "cell_type": "code",
   "execution_count": 1,
   "id": "658c5dec",
   "metadata": {
    "id": "658c5dec"
   },
   "outputs": [],
   "source": [
    "import numpy as np\n",
    "import pandas as pd\n",
    "import scipy.stats as stats\n",
    "import seaborn as sns\n",
    "import matplotlib.pyplot as plt\n",
    "%matplotlib inline "
   ]
  },
  {
   "cell_type": "markdown",
   "id": "6970dd99",
   "metadata": {
    "id": "6970dd99"
   },
   "source": [
    "## Reading the Data into a DataFrame"
   ]
  },
  {
   "cell_type": "code",
   "execution_count": 2,
   "id": "d3b95640",
   "metadata": {
    "id": "d3b95640"
   },
   "outputs": [],
   "source": [
    "data = pd.read_csv('abtest.csv')"
   ]
  },
  {
   "cell_type": "markdown",
   "id": "9d75cfa2",
   "metadata": {
    "id": "9d75cfa2"
   },
   "source": [
    "## Explore the dataset and extract insights using Exploratory Data Analysis"
   ]
  },
  {
   "cell_type": "markdown",
   "id": "27201534",
   "metadata": {
    "id": "27201534"
   },
   "source": [
    "- Data Overview\n",
    "  - Viewing the first and last few rows of the dataset\n",
    "  - Checking the shape of the dataset\n",
    "  - Getting the statistical summary for the variables\n",
    "- Check for missing values\n",
    "- Check for duplicates"
   ]
  },
  {
   "cell_type": "code",
   "execution_count": 3,
   "id": "e1ad11d4",
   "metadata": {
    "id": "e1ad11d4"
   },
   "outputs": [
    {
     "data": {
      "text/html": [
       "<div>\n",
       "<style scoped>\n",
       "    .dataframe tbody tr th:only-of-type {\n",
       "        vertical-align: middle;\n",
       "    }\n",
       "\n",
       "    .dataframe tbody tr th {\n",
       "        vertical-align: top;\n",
       "    }\n",
       "\n",
       "    .dataframe thead th {\n",
       "        text-align: right;\n",
       "    }\n",
       "</style>\n",
       "<table border=\"1\" class=\"dataframe\">\n",
       "  <thead>\n",
       "    <tr style=\"text-align: right;\">\n",
       "      <th></th>\n",
       "      <th>user_id</th>\n",
       "      <th>group</th>\n",
       "      <th>landing_page</th>\n",
       "      <th>time_spent_on_the_page</th>\n",
       "      <th>converted</th>\n",
       "      <th>language_preferred</th>\n",
       "    </tr>\n",
       "  </thead>\n",
       "  <tbody>\n",
       "    <tr>\n",
       "      <th>0</th>\n",
       "      <td>546592</td>\n",
       "      <td>control</td>\n",
       "      <td>old</td>\n",
       "      <td>3.48</td>\n",
       "      <td>no</td>\n",
       "      <td>Spanish</td>\n",
       "    </tr>\n",
       "    <tr>\n",
       "      <th>1</th>\n",
       "      <td>546468</td>\n",
       "      <td>treatment</td>\n",
       "      <td>new</td>\n",
       "      <td>7.13</td>\n",
       "      <td>yes</td>\n",
       "      <td>English</td>\n",
       "    </tr>\n",
       "    <tr>\n",
       "      <th>2</th>\n",
       "      <td>546462</td>\n",
       "      <td>treatment</td>\n",
       "      <td>new</td>\n",
       "      <td>4.40</td>\n",
       "      <td>no</td>\n",
       "      <td>Spanish</td>\n",
       "    </tr>\n",
       "    <tr>\n",
       "      <th>3</th>\n",
       "      <td>546567</td>\n",
       "      <td>control</td>\n",
       "      <td>old</td>\n",
       "      <td>3.02</td>\n",
       "      <td>no</td>\n",
       "      <td>French</td>\n",
       "    </tr>\n",
       "    <tr>\n",
       "      <th>4</th>\n",
       "      <td>546459</td>\n",
       "      <td>treatment</td>\n",
       "      <td>new</td>\n",
       "      <td>4.75</td>\n",
       "      <td>yes</td>\n",
       "      <td>Spanish</td>\n",
       "    </tr>\n",
       "  </tbody>\n",
       "</table>\n",
       "</div>"
      ],
      "text/plain": [
       "   user_id      group landing_page  time_spent_on_the_page converted  \\\n",
       "0   546592    control          old                    3.48        no   \n",
       "1   546468  treatment          new                    7.13       yes   \n",
       "2   546462  treatment          new                    4.40        no   \n",
       "3   546567    control          old                    3.02        no   \n",
       "4   546459  treatment          new                    4.75       yes   \n",
       "\n",
       "  language_preferred  \n",
       "0            Spanish  \n",
       "1            English  \n",
       "2            Spanish  \n",
       "3             French  \n",
       "4            Spanish  "
      ]
     },
     "execution_count": 3,
     "metadata": {},
     "output_type": "execute_result"
    }
   ],
   "source": [
    "data.head()"
   ]
  },
  {
   "cell_type": "code",
   "execution_count": 4,
   "id": "bf973457-b24b-41e5-8a41-e66c3efe04d4",
   "metadata": {},
   "outputs": [
    {
     "data": {
      "text/html": [
       "<div>\n",
       "<style scoped>\n",
       "    .dataframe tbody tr th:only-of-type {\n",
       "        vertical-align: middle;\n",
       "    }\n",
       "\n",
       "    .dataframe tbody tr th {\n",
       "        vertical-align: top;\n",
       "    }\n",
       "\n",
       "    .dataframe thead th {\n",
       "        text-align: right;\n",
       "    }\n",
       "</style>\n",
       "<table border=\"1\" class=\"dataframe\">\n",
       "  <thead>\n",
       "    <tr style=\"text-align: right;\">\n",
       "      <th></th>\n",
       "      <th>user_id</th>\n",
       "      <th>group</th>\n",
       "      <th>landing_page</th>\n",
       "      <th>time_spent_on_the_page</th>\n",
       "      <th>converted</th>\n",
       "      <th>language_preferred</th>\n",
       "    </tr>\n",
       "  </thead>\n",
       "  <tbody>\n",
       "    <tr>\n",
       "      <th>95</th>\n",
       "      <td>546446</td>\n",
       "      <td>treatment</td>\n",
       "      <td>new</td>\n",
       "      <td>5.15</td>\n",
       "      <td>no</td>\n",
       "      <td>Spanish</td>\n",
       "    </tr>\n",
       "    <tr>\n",
       "      <th>96</th>\n",
       "      <td>546544</td>\n",
       "      <td>control</td>\n",
       "      <td>old</td>\n",
       "      <td>6.52</td>\n",
       "      <td>yes</td>\n",
       "      <td>English</td>\n",
       "    </tr>\n",
       "    <tr>\n",
       "      <th>97</th>\n",
       "      <td>546472</td>\n",
       "      <td>treatment</td>\n",
       "      <td>new</td>\n",
       "      <td>7.07</td>\n",
       "      <td>yes</td>\n",
       "      <td>Spanish</td>\n",
       "    </tr>\n",
       "    <tr>\n",
       "      <th>98</th>\n",
       "      <td>546481</td>\n",
       "      <td>treatment</td>\n",
       "      <td>new</td>\n",
       "      <td>6.20</td>\n",
       "      <td>yes</td>\n",
       "      <td>Spanish</td>\n",
       "    </tr>\n",
       "    <tr>\n",
       "      <th>99</th>\n",
       "      <td>546483</td>\n",
       "      <td>treatment</td>\n",
       "      <td>new</td>\n",
       "      <td>5.86</td>\n",
       "      <td>yes</td>\n",
       "      <td>English</td>\n",
       "    </tr>\n",
       "  </tbody>\n",
       "</table>\n",
       "</div>"
      ],
      "text/plain": [
       "    user_id      group landing_page  time_spent_on_the_page converted  \\\n",
       "95   546446  treatment          new                    5.15        no   \n",
       "96   546544    control          old                    6.52       yes   \n",
       "97   546472  treatment          new                    7.07       yes   \n",
       "98   546481  treatment          new                    6.20       yes   \n",
       "99   546483  treatment          new                    5.86       yes   \n",
       "\n",
       "   language_preferred  \n",
       "95            Spanish  \n",
       "96            English  \n",
       "97            Spanish  \n",
       "98            Spanish  \n",
       "99            English  "
      ]
     },
     "execution_count": 4,
     "metadata": {},
     "output_type": "execute_result"
    }
   ],
   "source": [
    "data.tail()"
   ]
  },
  {
   "cell_type": "code",
   "execution_count": 5,
   "id": "9c22051d-7c20-4679-9d33-d703958632b2",
   "metadata": {},
   "outputs": [
    {
     "data": {
      "text/plain": [
       "(100, 6)"
      ]
     },
     "execution_count": 5,
     "metadata": {},
     "output_type": "execute_result"
    }
   ],
   "source": [
    "data.shape"
   ]
  },
  {
   "cell_type": "code",
   "execution_count": 6,
   "id": "9e3ee30e-1be4-48f8-b230-51158363c1c8",
   "metadata": {},
   "outputs": [
    {
     "name": "stdout",
     "output_type": "stream",
     "text": [
      "<class 'pandas.core.frame.DataFrame'>\n",
      "RangeIndex: 100 entries, 0 to 99\n",
      "Data columns (total 6 columns):\n",
      " #   Column                  Non-Null Count  Dtype  \n",
      "---  ------                  --------------  -----  \n",
      " 0   user_id                 100 non-null    int64  \n",
      " 1   group                   100 non-null    object \n",
      " 2   landing_page            100 non-null    object \n",
      " 3   time_spent_on_the_page  100 non-null    float64\n",
      " 4   converted               100 non-null    object \n",
      " 5   language_preferred      100 non-null    object \n",
      "dtypes: float64(1), int64(1), object(4)\n",
      "memory usage: 4.8+ KB\n"
     ]
    }
   ],
   "source": [
    "data.info()"
   ]
  },
  {
   "cell_type": "code",
   "execution_count": 7,
   "id": "ae7e2545-6475-437f-9348-8423fedb0b80",
   "metadata": {},
   "outputs": [
    {
     "data": {
      "text/html": [
       "<div>\n",
       "<style scoped>\n",
       "    .dataframe tbody tr th:only-of-type {\n",
       "        vertical-align: middle;\n",
       "    }\n",
       "\n",
       "    .dataframe tbody tr th {\n",
       "        vertical-align: top;\n",
       "    }\n",
       "\n",
       "    .dataframe thead th {\n",
       "        text-align: right;\n",
       "    }\n",
       "</style>\n",
       "<table border=\"1\" class=\"dataframe\">\n",
       "  <thead>\n",
       "    <tr style=\"text-align: right;\">\n",
       "      <th></th>\n",
       "      <th>count</th>\n",
       "      <th>unique</th>\n",
       "      <th>top</th>\n",
       "      <th>freq</th>\n",
       "      <th>mean</th>\n",
       "      <th>std</th>\n",
       "      <th>min</th>\n",
       "      <th>25%</th>\n",
       "      <th>50%</th>\n",
       "      <th>75%</th>\n",
       "      <th>max</th>\n",
       "    </tr>\n",
       "  </thead>\n",
       "  <tbody>\n",
       "    <tr>\n",
       "      <th>user_id</th>\n",
       "      <td>100.0</td>\n",
       "      <td>NaN</td>\n",
       "      <td>NaN</td>\n",
       "      <td>NaN</td>\n",
       "      <td>546517.0</td>\n",
       "      <td>52.295779</td>\n",
       "      <td>546443.0</td>\n",
       "      <td>546467.75</td>\n",
       "      <td>546492.5</td>\n",
       "      <td>546567.25</td>\n",
       "      <td>546592.0</td>\n",
       "    </tr>\n",
       "    <tr>\n",
       "      <th>group</th>\n",
       "      <td>100</td>\n",
       "      <td>2</td>\n",
       "      <td>control</td>\n",
       "      <td>50</td>\n",
       "      <td>NaN</td>\n",
       "      <td>NaN</td>\n",
       "      <td>NaN</td>\n",
       "      <td>NaN</td>\n",
       "      <td>NaN</td>\n",
       "      <td>NaN</td>\n",
       "      <td>NaN</td>\n",
       "    </tr>\n",
       "    <tr>\n",
       "      <th>landing_page</th>\n",
       "      <td>100</td>\n",
       "      <td>2</td>\n",
       "      <td>old</td>\n",
       "      <td>50</td>\n",
       "      <td>NaN</td>\n",
       "      <td>NaN</td>\n",
       "      <td>NaN</td>\n",
       "      <td>NaN</td>\n",
       "      <td>NaN</td>\n",
       "      <td>NaN</td>\n",
       "      <td>NaN</td>\n",
       "    </tr>\n",
       "    <tr>\n",
       "      <th>time_spent_on_the_page</th>\n",
       "      <td>100.0</td>\n",
       "      <td>NaN</td>\n",
       "      <td>NaN</td>\n",
       "      <td>NaN</td>\n",
       "      <td>5.3778</td>\n",
       "      <td>2.378166</td>\n",
       "      <td>0.19</td>\n",
       "      <td>3.88</td>\n",
       "      <td>5.415</td>\n",
       "      <td>7.0225</td>\n",
       "      <td>10.71</td>\n",
       "    </tr>\n",
       "    <tr>\n",
       "      <th>converted</th>\n",
       "      <td>100</td>\n",
       "      <td>2</td>\n",
       "      <td>yes</td>\n",
       "      <td>54</td>\n",
       "      <td>NaN</td>\n",
       "      <td>NaN</td>\n",
       "      <td>NaN</td>\n",
       "      <td>NaN</td>\n",
       "      <td>NaN</td>\n",
       "      <td>NaN</td>\n",
       "      <td>NaN</td>\n",
       "    </tr>\n",
       "    <tr>\n",
       "      <th>language_preferred</th>\n",
       "      <td>100</td>\n",
       "      <td>3</td>\n",
       "      <td>Spanish</td>\n",
       "      <td>34</td>\n",
       "      <td>NaN</td>\n",
       "      <td>NaN</td>\n",
       "      <td>NaN</td>\n",
       "      <td>NaN</td>\n",
       "      <td>NaN</td>\n",
       "      <td>NaN</td>\n",
       "      <td>NaN</td>\n",
       "    </tr>\n",
       "  </tbody>\n",
       "</table>\n",
       "</div>"
      ],
      "text/plain": [
       "                        count unique      top freq      mean        std  \\\n",
       "user_id                 100.0    NaN      NaN  NaN  546517.0  52.295779   \n",
       "group                     100      2  control   50       NaN        NaN   \n",
       "landing_page              100      2      old   50       NaN        NaN   \n",
       "time_spent_on_the_page  100.0    NaN      NaN  NaN    5.3778   2.378166   \n",
       "converted                 100      2      yes   54       NaN        NaN   \n",
       "language_preferred        100      3  Spanish   34       NaN        NaN   \n",
       "\n",
       "                             min        25%       50%        75%       max  \n",
       "user_id                 546443.0  546467.75  546492.5  546567.25  546592.0  \n",
       "group                        NaN        NaN       NaN        NaN       NaN  \n",
       "landing_page                 NaN        NaN       NaN        NaN       NaN  \n",
       "time_spent_on_the_page      0.19       3.88     5.415     7.0225     10.71  \n",
       "converted                    NaN        NaN       NaN        NaN       NaN  \n",
       "language_preferred           NaN        NaN       NaN        NaN       NaN  "
      ]
     },
     "execution_count": 7,
     "metadata": {},
     "output_type": "execute_result"
    }
   ],
   "source": [
    "data.describe(include='all').T"
   ]
  },
  {
   "cell_type": "code",
   "execution_count": 8,
   "id": "9e38be50-668c-4105-b4ba-ff4eaf20f0c8",
   "metadata": {},
   "outputs": [
    {
     "data": {
      "text/plain": [
       "user_id                   0\n",
       "group                     0\n",
       "landing_page              0\n",
       "time_spent_on_the_page    0\n",
       "converted                 0\n",
       "language_preferred        0\n",
       "dtype: int64"
      ]
     },
     "execution_count": 8,
     "metadata": {},
     "output_type": "execute_result"
    }
   ],
   "source": [
    "#check for missing values\n",
    "data.isnull().sum()"
   ]
  },
  {
   "cell_type": "code",
   "execution_count": 9,
   "id": "e6088d52-2dd9-4b1d-86d6-9d62cd0a269a",
   "metadata": {},
   "outputs": [
    {
     "data": {
      "text/plain": [
       "0"
      ]
     },
     "execution_count": 9,
     "metadata": {},
     "output_type": "execute_result"
    }
   ],
   "source": [
    "#check for duplicates\n",
    "data.duplicated().sum()"
   ]
  },
  {
   "cell_type": "markdown",
   "id": "68f3b2c9",
   "metadata": {
    "id": "68f3b2c9"
   },
   "source": [
    "### Univariate Analysis"
   ]
  },
  {
   "cell_type": "code",
   "execution_count": 10,
   "id": "4773c513-240a-47f3-8c9e-06a5c266f774",
   "metadata": {},
   "outputs": [
    {
     "data": {
      "image/png": "[encoded data removed]",
      "text/plain": [
       "<Figure size 640x480 with 1 Axes>"
      ]
     },
     "metadata": {},
     "output_type": "display_data"
    }
   ],
   "source": [
    "sns.histplot(data=data, x='time_spent_on_the_page',kde=True);"
   ]
  },
  {
   "cell_type": "markdown",
   "id": "c1e442af-d104-47f3-9906-1277d2f80d03",
   "metadata": {},
   "source": [
    "### Obeservation:\n",
    "##### The time_spent_on_the_page variable is nearly normal distribution. \n",
    "##### The average time spent on the page is in the range of (5,6)minutes. "
   ]
  },
  {
   "cell_type": "code",
   "execution_count": 11,
   "id": "a84a0dbb-1631-4d6b-8c4d-fbf16a0e442b",
   "metadata": {},
   "outputs": [
    {
     "data": {
      "image/png": "[encoded data removed]",
      "text/plain": [
       "<Figure size 640x480 with 1 Axes>"
      ]
     },
     "metadata": {},
     "output_type": "display_data"
    }
   ],
   "source": [
    "sns.countplot(data=data, x='converted');"
   ]
  },
  {
   "cell_type": "markdown",
   "id": "a117cd0e-3491-45af-80c7-6267e83b2582",
   "metadata": {},
   "source": [
    "### Obeservation:\n",
    "##### The conversion rate of users((the proportion of users who visit the landing page and get converted)) is around 50% - 55%."
   ]
  },
  {
   "cell_type": "code",
   "execution_count": 12,
   "id": "9019fbae-e92f-419e-bbad-1f54045dfa53",
   "metadata": {},
   "outputs": [
    {
     "data": {
      "image/png": "[encoded data removed]",
      "text/plain": [
       "<Figure size 640x480 with 1 Axes>"
      ]
     },
     "metadata": {},
     "output_type": "display_data"
    }
   ],
   "source": [
    "sns.countplot(data=data, x='group');"
   ]
  },
  {
   "cell_type": "code",
   "execution_count": 13,
   "id": "8f035bba-42d4-479c-ac42-368567b0d518",
   "metadata": {},
   "outputs": [
    {
     "data": {
      "image/png": "[encoded data removed]",
      "text/plain": [
       "<Figure size 640x480 with 1 Axes>"
      ]
     },
     "metadata": {},
     "output_type": "display_data"
    }
   ],
   "source": [
    "sns.countplot(data=data, x='landing_page');"
   ]
  },
  {
   "cell_type": "markdown",
   "id": "dfd177ac-7f47-4084-8cf0-a73f743cb160",
   "metadata": {},
   "source": [
    "### Obeservation:\n",
    "##### The treatment group and control group have same number of users,which is 50. So as the new landing page and the existing landing page."
   ]
  },
  {
   "cell_type": "code",
   "execution_count": 14,
   "id": "7c22afe0-13fe-4177-901a-9c9a3c9ca571",
   "metadata": {},
   "outputs": [
    {
     "data": {
      "image/png": "[encoded data removed]",
      "text/plain": [
       "<Figure size 640x480 with 1 Axes>"
      ]
     },
     "metadata": {},
     "output_type": "display_data"
    }
   ],
   "source": [
    "sns.countplot(data=data, x='language_preferred');"
   ]
  },
  {
   "cell_type": "markdown",
   "id": "1e3f94fd-be4e-42e8-b70a-32fd38f1058d",
   "metadata": {},
   "source": [
    "### Obeservation:\n",
    "##### users have different language preferrance, including Spanish, English, and French. All of the language group have more than 30 users."
   ]
  },
  {
   "cell_type": "markdown",
   "id": "fad2de2f",
   "metadata": {
    "id": "fad2de2f"
   },
   "source": [
    "### Bivariate Analysis"
   ]
  },
  {
   "cell_type": "code",
   "execution_count": 15,
   "id": "cd8e1b42-7d88-4fe9-8589-153be2b39b71",
   "metadata": {},
   "outputs": [
    {
     "data": {
      "image/png": "[encoded data removed]",
      "text/plain": [
       "<Figure size 640x480 with 1 Axes>"
      ]
     },
     "metadata": {},
     "output_type": "display_data"
    }
   ],
   "source": [
    "sns.boxplot(data=data, x='converted',y='time_spent_on_the_page');"
   ]
  },
  {
   "cell_type": "markdown",
   "id": "51a1fd72-6c6a-4f13-ad30-41bceecb98a0",
   "metadata": {},
   "source": [
    "### Observation:\n",
    "##### Users who get converted spend more time than the users who don't get converted."
   ]
  },
  {
   "cell_type": "code",
   "execution_count": 16,
   "id": "b2a90ca3-c6db-4510-8294-e7a42cabaac8",
   "metadata": {},
   "outputs": [
    {
     "data": {
      "image/png": "[encoded data removed]",
      "text/plain": [
       "<Figure size 640x480 with 1 Axes>"
      ]
     },
     "metadata": {},
     "output_type": "display_data"
    }
   ],
   "source": [
    "sns.boxplot(data=data, x='landing_page', y='time_spent_on_the_page');"
   ]
  },
  {
   "cell_type": "markdown",
   "id": "296e3df7-eebd-4fa4-b520-3cc34dc311bb",
   "metadata": {},
   "source": [
    "#### Oberservation:\n",
    "##### users spent more time on the new landing page than than the existing landing page."
   ]
  },
  {
   "cell_type": "code",
   "execution_count": 17,
   "id": "a6a7699e-cf28-4836-adf7-29bfaaece6c8",
   "metadata": {},
   "outputs": [
    {
     "data": {
      "image/png": "[encoded data removed]",
      "text/plain": [
       "<Figure size 640x480 with 1 Axes>"
      ]
     },
     "metadata": {},
     "output_type": "display_data"
    }
   ],
   "source": [
    "sns.countplot(data=data, x='language_preferred', hue='converted');"
   ]
  },
  {
   "cell_type": "markdown",
   "id": "7c3cad3f-6a51-4406-8fdb-10b628060d90",
   "metadata": {},
   "source": [
    "### Obeservation:\n",
    "##### The conversion rate of English users is the highest,well above 50%. The conversion rate of Spanish users are slightly higher than 50%. The conversion rate of French users are lower than 50%."
   ]
  },
  {
   "cell_type": "markdown",
   "id": "27906576",
   "metadata": {
    "id": "27906576"
   },
   "source": [
    "## 1. Do the users spend more time on the new landing page than the existing landing page?"
   ]
  },
  {
   "cell_type": "markdown",
   "id": "e5fdf0c8",
   "metadata": {
    "id": "e5fdf0c8"
   },
   "source": [
    "### Perform Visual Analysis"
   ]
  },
  {
   "cell_type": "code",
   "execution_count": 18,
   "id": "6eZJa41eg21n",
   "metadata": {
    "id": "6eZJa41eg21n"
   },
   "outputs": [
    {
     "data": {
      "image/png": "[encoded data removed]",
      "text/plain": [
       "<Figure size 640x480 with 1 Axes>"
      ]
     },
     "metadata": {},
     "output_type": "display_data"
    }
   ],
   "source": [
    "sns.boxplot(data=data, x='landing_page',y='time_spent_on_the_page');"
   ]
  },
  {
   "cell_type": "code",
   "execution_count": 19,
   "id": "28fd964f-d596-45e9-b3e1-97928acda12a",
   "metadata": {},
   "outputs": [
    {
     "data": {
      "image/png": "[encoded data removed]",
      "text/plain": [
       "<Figure size 600x300 with 2 Axes>"
      ]
     },
     "metadata": {},
     "output_type": "display_data"
    }
   ],
   "source": [
    "g = sns.FacetGrid(data, col='landing_page')\n",
    "g.map(sns.kdeplot,'time_spent_on_the_page');"
   ]
  },
  {
   "cell_type": "markdown",
   "id": "56b3dafd",
   "metadata": {
    "id": "56b3dafd"
   },
   "source": [
    "### Step 1: Define the null and alternate hypotheses"
   ]
  },
  {
   "cell_type": "markdown",
   "id": "d2ac77ef",
   "metadata": {
    "id": "d2ac77ef"
   },
   "source": [
    "##### Null hypothese: users spend the same amount of time on the new and the existing landing page. H0: u1 = u2.\n",
    "##### Alternate hypothese: users spend more time on the new landing page than the existing landing page. Ha: u1 > u2."
   ]
  },
  {
   "cell_type": "markdown",
   "id": "c7ee4907",
   "metadata": {
    "id": "c7ee4907"
   },
   "source": [
    "### Step 2: Select Appropriate test"
   ]
  },
  {
   "cell_type": "markdown",
   "id": "2c183cd7",
   "metadata": {
    "id": "2c183cd7"
   },
   "source": [
    "Since we are comparing two sample's mean, the variable for both group is nearly normal distribution, and the standard deviation is unkown, this should be a 2 sample t-test."
   ]
  },
  {
   "cell_type": "markdown",
   "id": "3f58c9a7",
   "metadata": {
    "id": "3f58c9a7"
   },
   "source": [
    "### Step 3: Decide the significance level"
   ]
  },
  {
   "cell_type": "markdown",
   "id": "92d7d7ee",
   "metadata": {
    "id": "92d7d7ee"
   },
   "source": [
    "the level of significance will be 0.05"
   ]
  },
  {
   "cell_type": "markdown",
   "id": "5fed2eac",
   "metadata": {
    "id": "5fed2eac"
   },
   "source": [
    "### Step 4: Collect and prepare data"
   ]
  },
  {
   "cell_type": "code",
   "execution_count": 20,
   "id": "f5a59495",
   "metadata": {
    "id": "f5a59495"
   },
   "outputs": [],
   "source": [
    "sample1 = data[data.landing_page == 'new'].time_spent_on_the_page\n",
    "sample2 = data[data.landing_page == 'old'].time_spent_on_the_page"
   ]
  },
  {
   "cell_type": "markdown",
   "id": "f5c5258d",
   "metadata": {
    "id": "f5c5258d"
   },
   "source": [
    "### Step 5: Calculate the p-value"
   ]
  },
  {
   "cell_type": "code",
   "execution_count": 21,
   "id": "fac8594a",
   "metadata": {
    "id": "fac8594a"
   },
   "outputs": [
    {
     "name": "stdout",
     "output_type": "stream",
     "text": [
      "0.00013923812251665497\n"
     ]
    }
   ],
   "source": [
    "from scipy.stats import ttest_ind\n",
    "test_stat, p_value = ttest_ind(sample1, sample2, equal_var=False, alternative='greater')\n",
    "print(p_value)"
   ]
  },
  {
   "cell_type": "markdown",
   "id": "359b12f8",
   "metadata": {
    "id": "359b12f8"
   },
   "source": [
    "### Step 6: Compare the p-value with $\\alpha$"
   ]
  },
  {
   "cell_type": "markdown",
   "id": "83ad2568-9847-4126-8666-4176128c7db9",
   "metadata": {
    "id": "7be47289"
   },
   "source": [
    "P-value is smaller than 0.05."
   ]
  },
  {
   "cell_type": "markdown",
   "id": "d9affc84",
   "metadata": {
    "id": "d9affc84"
   },
   "source": [
    "### Step 7:  Draw inference"
   ]
  },
  {
   "cell_type": "markdown",
   "id": "6b16dd4b",
   "metadata": {
    "id": "6b16dd4b"
   },
   "source": [
    "we can reject the null hypothesis, which means, we have enough evidence to claim that, users spend more time on the new landing page than the existing landing page."
   ]
  },
  {
   "cell_type": "markdown",
   "id": "1ad0823a",
   "metadata": {
    "id": "1ad0823a"
   },
   "source": [
    "**A similar approach can be followed to answer the other questions.**"
   ]
  },
  {
   "cell_type": "markdown",
   "id": "353e9d24",
   "metadata": {
    "id": "353e9d24"
   },
   "source": [
    "## 2. Is the conversion rate (the proportion of users who visit the landing page and get converted) for the new page greater than the conversion rate for the old page?"
   ]
  },
  {
   "cell_type": "markdown",
   "id": "d87643e0-4b05-41f4-8739-ed5867eb8042",
   "metadata": {},
   "source": [
    "#### Visual Analysis"
   ]
  },
  {
   "cell_type": "code",
   "execution_count": 22,
   "id": "72a344b7-b54c-4bc0-8c97-efa7667db29f",
   "metadata": {},
   "outputs": [
    {
     "data": {
      "image/png": "[encoded data removed]",
      "text/plain": [
       "<Figure size 640x480 with 1 Axes>"
      ]
     },
     "metadata": {},
     "output_type": "display_data"
    }
   ],
   "source": [
    "sns.countplot(data=data, x='converted',hue='landing_page');"
   ]
  },
  {
   "cell_type": "markdown",
   "id": "d900c9bf-ba05-49de-8616-487f96778fce",
   "metadata": {
    "id": "b7f52898"
   },
   "source": [
    "#### Step 1: Define the null and alternate hypotheses\n",
    "##### null hypothesis:the conversion rate for the new page is the same as the conversion rate for the old page. H0:P1=P2\n",
    "##### alternative hypothesis: the conversion rate for the new page is greater than the conversion rate for the old page. Ha:P1>P2\n",
    "#### Step 2: Select appropriate test\n",
    "##### 2 propotion z test\n",
    "#### Step 3: Decide the significance level\n",
    "##### the level of significance will be 0.05\n",
    "#### Step 4: Collect and prepare data"
   ]
  },
  {
   "cell_type": "code",
   "execution_count": 23,
   "id": "029164f1-fe9b-403a-9a00-23eede6a28f5",
   "metadata": {},
   "outputs": [
    {
     "name": "stdout",
     "output_type": "stream",
     "text": [
      "33\n",
      "21\n",
      "[33 21]\n",
      "[50 50]\n"
     ]
    }
   ],
   "source": [
    "converted_new = data[data['landing_page'] == 'new']['converted'].value_counts().yes\n",
    "converted_old = data[data['landing_page'] == 'old']['converted'].value_counts().yes\n",
    "converted_num = np.array([converted_new, converted_old])\n",
    "nobs = np.array([50,50])\n",
    "print(converted_new)\n",
    "print(converted_old)\n",
    "print(converted_num)\n",
    "print(nobs)"
   ]
  },
  {
   "cell_type": "markdown",
   "id": "374b3b9f-036a-4e2d-a6da-071c9ef6212c",
   "metadata": {},
   "source": [
    "#### Step5: Calculate P value"
   ]
  },
  {
   "cell_type": "code",
   "execution_count": 24,
   "id": "d2cba82e-ea08-4583-9221-424c81bead2d",
   "metadata": {},
   "outputs": [
    {
     "name": "stdout",
     "output_type": "stream",
     "text": [
      "0.016052616408112556\n"
     ]
    }
   ],
   "source": [
    "from statsmodels.stats.proportion import proportions_ztest\n",
    "test_stat, p_value = proportions_ztest(converted_num, nobs)\n",
    "print(p_value)"
   ]
  },
  {
   "cell_type": "markdown",
   "id": "591902f2-6aa4-48c8-bb83-5fc24ad704db",
   "metadata": {},
   "source": [
    "#### Step6: Compare the p-value with $\\alpha$\n",
    "##### p value is smaller than 0.05"
   ]
  },
  {
   "cell_type": "markdown",
   "id": "5e2096e7-2f91-42b4-bfac-feae719e0fac",
   "metadata": {},
   "source": [
    "#### Step7: Draw inference\n",
    "##### since p value is smaller than 0.05, we can reject the null hypothesis, which means that, we have enough evidence to claim the conversion rate for the new page is greater than the existing page."
   ]
  },
  {
   "cell_type": "markdown",
   "id": "d49bfa2d",
   "metadata": {
    "id": "d49bfa2d"
   },
   "source": [
    "## 3. Is the conversion and preferred language are independent or related?"
   ]
  },
  {
   "cell_type": "markdown",
   "id": "296a91f4-032a-49ce-8747-fc0ec5b6906b",
   "metadata": {},
   "source": [
    "#### Step 1: Define the null and alternate hypotheses\n",
    "##### null hypothesis:converted and preferred language are independent.\n",
    "##### alternative hypothesis: converted and preferred language are not independent.\n",
    "#### Step 2: Select appropriate test\n",
    "##### chi-square test of independence\n",
    "#### Step 3: Decide the significance level\n",
    "##### the level of significance will be 0.05\n",
    "#### Step 4: Collect and prepare data"
   ]
  },
  {
   "cell_type": "code",
   "execution_count": 25,
   "id": "55827a6e-cb32-4a7b-b6ca-d33e96c92a19",
   "metadata": {},
   "outputs": [
    {
     "name": "stdout",
     "output_type": "stream",
     "text": [
      "language_preferred  English  French  Spanish\n",
      "converted                                   \n",
      "no                       11      19       16\n",
      "yes                      21      15       18\n"
     ]
    }
   ],
   "source": [
    "c_table = pd.crosstab(data.converted, data.language_preferred)\n",
    "print(c_table)"
   ]
  },
  {
   "cell_type": "markdown",
   "id": "47d59898-2e3d-43e1-81a9-f3b5a1b85a2b",
   "metadata": {},
   "source": [
    "#### Step5: Calculate P value"
   ]
  },
  {
   "cell_type": "code",
   "execution_count": 26,
   "id": "eb702ff6-647f-4389-8a4a-0dd342a4a14f",
   "metadata": {},
   "outputs": [
    {
     "name": "stdout",
     "output_type": "stream",
     "text": [
      "0.21298887487543447\n"
     ]
    }
   ],
   "source": [
    "from scipy.stats import chi2_contingency\n",
    "chi,p_value,dof,expected = chi2_contingency(c_table)\n",
    "print(p_value)"
   ]
  },
  {
   "cell_type": "code",
   "execution_count": 27,
   "id": "10cb2aba-42a3-4a37-a4cd-85613b249d7b",
   "metadata": {},
   "outputs": [
    {
     "data": {
      "image/png": "[encoded data removed]",
      "text/plain": [
       "<Figure size 640x480 with 1 Axes>"
      ]
     },
     "metadata": {},
     "output_type": "display_data"
    }
   ],
   "source": [
    "c_table.plot(kind='bar',stacked=True);"
   ]
  },
  {
   "cell_type": "markdown",
   "id": "a1a74589-77bf-4541-9b96-7607847cb2cd",
   "metadata": {},
   "source": [
    "#### Step6: Compare the p-value with $\\alpha$\n",
    "##### p value is larger than 0.05"
   ]
  },
  {
   "cell_type": "markdown",
   "id": "fa30be85-5df8-424e-917b-9212476e5d08",
   "metadata": {},
   "source": [
    "#### Step7: Draw inference\n",
    "##### since p value is larger than 0.05, we fail to reject the null hypothesis, which means that, we have enough evidence to claim that, the convertion and language preferance are independent."
   ]
  },
  {
   "cell_type": "markdown",
   "id": "8d585a90",
   "metadata": {
    "id": "8d585a90"
   },
   "source": [
    "## 4. Is the time spent on the new page same for the different language users?"
   ]
  },
  {
   "cell_type": "markdown",
   "id": "d2fc1f4e-4e66-4267-8b81-e49f3deefb6f",
   "metadata": {
    "id": "b422f395"
   },
   "source": [
    "#### Step 1: Define the null and alternate hypotheses\n",
    "##### null hypothesis:average time spent on the new page is same for the different language users. H0:u1=u2=u3\n",
    "##### alternative hypothesis: average time spent on the new page is not the same for the different language users. Ha: at least one of u1, u2, u3 is not the same with the others.\n",
    "#### Step 2: Select appropriate test\n",
    "##### one-way ANOVA\n",
    "#### Step 3: Decide the significance level\n",
    "##### the level of significance will be 0.05\n",
    "#### Step 4: Collect and prepare data"
   ]
  },
  {
   "cell_type": "code",
   "execution_count": 28,
   "id": "2546b12c-c6b0-4d14-9537-933c356f28a0",
   "metadata": {},
   "outputs": [],
   "source": [
    "new_data = data.loc[data['landing_page'] == 'new']"
   ]
  },
  {
   "cell_type": "code",
   "execution_count": 29,
   "id": "4afc1878-4efc-46c3-9e66-df6e0d4027ad",
   "metadata": {},
   "outputs": [
    {
     "data": {
      "text/plain": [
       "language_preferred\n",
       "English    6.663750\n",
       "French     6.196471\n",
       "Spanish    5.835294\n",
       "Name: time_spent_on_the_page, dtype: float64"
      ]
     },
     "execution_count": 29,
     "metadata": {},
     "output_type": "execute_result"
    }
   ],
   "source": [
    "new_data.groupby('language_preferred')['time_spent_on_the_page'].mean()"
   ]
  },
  {
   "cell_type": "code",
   "execution_count": 30,
   "id": "efb16da4-c5fd-4ca3-9d4c-fb1fd2cb5373",
   "metadata": {},
   "outputs": [
    {
     "data": {
      "image/png": "[encoded data removed]",
      "text/plain": [
       "<Figure size 640x480 with 1 Axes>"
      ]
     },
     "metadata": {},
     "output_type": "display_data"
    }
   ],
   "source": [
    "sns.boxplot(data=new_data,x='language_preferred', y='time_spent_on_the_page');"
   ]
  },
  {
   "cell_type": "markdown",
   "id": "fb15cfdb-0d1b-40f2-ab81-a938dd358ea0",
   "metadata": {},
   "source": [
    "#### Step 5: Calculate p value"
   ]
  },
  {
   "cell_type": "code",
   "execution_count": 31,
   "id": "d5d75e34-033d-4169-a6b8-81de80fd0948",
   "metadata": {},
   "outputs": [
    {
     "name": "stdout",
     "output_type": "stream",
     "text": [
      "0.43204138694325955\n"
     ]
    }
   ],
   "source": [
    "from scipy.stats import f_oneway\n",
    "sample1 = new_data.loc[new_data.language_preferred == 'English', 'time_spent_on_the_page']\n",
    "sample2 = new_data.loc[new_data.language_preferred == 'Spanish', 'time_spent_on_the_page']\n",
    "sample3 = new_data.loc[new_data.language_preferred == 'French', 'time_spent_on_the_page']\n",
    "test_stat, p_value = f_oneway(sample1, sample2, sample3)\n",
    "print(p_value)"
   ]
  },
  {
   "cell_type": "markdown",
   "id": "b53404b2-f00f-4755-9d40-3705b63463d3",
   "metadata": {},
   "source": [
    "#### Step6: Compare the p-value with $\\alpha$\n",
    "##### p value is larger than 0.05"
   ]
  },
  {
   "cell_type": "markdown",
   "id": "eeae6fb1-3cd9-48df-91ca-fdc2d1fd30ce",
   "metadata": {},
   "source": [
    "#### Step7: Draw Inference\n",
    "##### since p value is larger than 0.05, we fail to reject the null hypothesis, which means that, we have enough evidence to claim, average time spent on the new page is same for the different language users."
   ]
  },
  {
   "cell_type": "markdown",
   "id": "3acbc947",
   "metadata": {
    "id": "3acbc947"
   },
   "source": [
    "## Conclusion and Business Recommendations"
   ]
  },
  {
   "cell_type": "markdown",
   "id": "21fb1063",
   "metadata": {
    "id": "21fb1063"
   },
   "source": [
    "#### Conclusions: \n",
    "1. users spend more time on the new landing page than the existing landing page.\n",
    "2. conversion rate for the new page is greater than the existing page.\n",
    "3. the convertion and language preference are independent.\n",
    "4. average time spent on the new page is same for the different language users.¶\n",
    "\n",
    "#### Business Recommendations:\n",
    "1. since the new landing page has better business performance, we e-news should use the new landing page than the existing landing page.\n",
    "2. since language preference is independent with the conversion rate,currently e-news doesn't have to make any specific move surrounding the language preference factor.\n",
    "3. users who spend more time on the landing page tend to get converted. e-news can exlore different ways to make users spend more time on the landing page, to improve their conversion rate."
   ]
  },
  {
   "cell_type": "markdown",
   "id": "U0dAd4i0iCHo",
   "metadata": {
    "id": "U0dAd4i0iCHo"
   },
   "source": [
    "___"
   ]
  }
 ],
 "metadata": {
  "colab": {
   "collapsed_sections": [
    "a6a3d218",
    "6970dd99",
    "9d75cfa2",
    "68f3b2c9",
    "fad2de2f",
    "27906576",
    "e5fdf0c8",
    "56b3dafd",
    "c7ee4907",
    "3f58c9a7",
    "5fed2eac",
    "f5c5258d",
    "359b12f8",
    "d9affc84",
    "353e9d24",
    "d49bfa2d",
    "8d585a90",
    "3acbc947"
   ],
   "name": "ENews_Express_Learner_Notebook_Full_Code v1.1.ipynb",
   "provenance": []
  },
  "kernelspec": {
   "display_name": "Python 3 (ipykernel)",
   "language": "python",
   "name": "python3"
  },
  "language_info": {
   "codemirror_mode": {
    "name": "ipython",
    "version": 3
   },
   "file_extension": ".py",
   "mimetype": "text/x-python",
   "name": "python",
   "nbconvert_exporter": "python",
   "pygments_lexer": "ipython3",
   "version": "3.11.5"
  }
 },
 "nbformat": 4,
 "nbformat_minor": 5
}
